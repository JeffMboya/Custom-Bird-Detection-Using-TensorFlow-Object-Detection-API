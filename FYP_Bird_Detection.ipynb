{
  "nbformat": 4,
  "nbformat_minor": 0,
  "metadata": {
    "colab": {
      "name": "FYP_Bird_Detection.ipynb",
      "provenance": [],
      "authorship_tag": "ABX9TyOMwR3yIq8e5Oyis0ZvCRsv",
      "include_colab_link": true
    },
    "kernelspec": {
      "name": "python3",
      "display_name": "Python 3"
    },
    "language_info": {
      "name": "python"
    },
    "accelerator": "GPU",
    "gpuClass": "standard"
  },
  "cells": [
    {
      "cell_type": "markdown",
      "metadata": {
        "id": "view-in-github",
        "colab_type": "text"
      },
      "source": [
        "<a href=\"https://colab.research.google.com/github/JeffMboya/Custom-Bird-Detection-Using-TensorFlow-Object-Detection-API/blob/main/FYP_Bird_Detection.ipynb\" target=\"_parent\"><img src=\"https://colab.research.google.com/assets/colab-badge.svg\" alt=\"Open In Colab\"/></a>"
      ]
    },
    {
      "cell_type": "markdown",
      "source": [
        "**TensorFlow object detection API install**"
      ],
      "metadata": {
        "id": "ksx-1Bv8OpgI"
      }
    },
    {
      "cell_type": "code",
      "source": [
        "#Import libraries\n",
        "import pathlib\n",
        "import sys\n",
        "\n",
        "\n",
        "#install tensorflow GPU\n",
        "%pip install tensorflow-gpu\n",
        "\n",
        "# Clone the tensorflow models repository if it doesn't already exist\n",
        "if \"models\" in pathlib.Path.cwd().parts:\n",
        "  while \"models\" in pathlib.Path.cwd().parts:\n",
        "    os.chdir('..')\n",
        "elif not pathlib.Path('models').exists():\n",
        "  !git clone --depth 1 https://github.com/tensorflow/models\n",
        "\n",
        "sys.path.append('/content/models/research/slim')"
      ],
      "metadata": {
        "id": "WDTqCgTPQyBV"
      },
      "execution_count": null,
      "outputs": []
    },
    {
      "cell_type": "code",
      "source": [
        "# Install the Object Detection API\n",
        "%%bash\n",
        "cd models/research/\n",
        "protoc object_detection/protos/*.proto --python_out=.\n",
        "cp object_detection/packages/tf2/setup.py .\n",
        "python -m pip install ."
      ],
      "metadata": {
        "id": "yX7MIfXdUrD2"
      },
      "execution_count": null,
      "outputs": []
    },
    {
      "cell_type": "code",
      "source": [
        "#Test Installation\n",
        "!python '/content/models/research/object_detection/builders/model_builder_tf2_test.py'"
      ],
      "metadata": {
        "id": "q-9AtDFraI3w"
      },
      "execution_count": null,
      "outputs": []
    }
  ]
}